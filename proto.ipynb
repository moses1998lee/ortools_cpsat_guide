{
 "cells": [
  {
   "cell_type": "markdown",
   "metadata": {},
   "source": [
    "### Creating Dummy Minimum Vertex Cover Problem"
   ]
  },
  {
   "cell_type": "code",
   "execution_count": 12,
   "metadata": {},
   "outputs": [
    {
     "name": "stdout",
     "output_type": "stream",
     "text": [
      "Var Numbers: dict_keys([0, 1, 2])\n",
      "OrTools Variables: dict_values([x_0(0..1), x_1(0..1), x_2(0..1)])\n"
     ]
    }
   ],
   "source": [
    "from ortools.sat.python import cp_model\n",
    "model = cp_model.CpModel()\n",
    "\n",
    "vars = [n for n in range(3)]\n",
    "x = {n:model.NewBoolVar(f\"x_{n}\") for n in vars}\n",
    "\n",
    "print(f\"Var Numbers: {x.keys()}\")\n",
    "print(f\"OrTools Variables: {x.values()}\")"
   ]
  },
  {
   "cell_type": "code",
   "execution_count": null,
   "metadata": {},
   "outputs": [
    {
     "name": "stdout",
     "output_type": "stream",
     "text": [
      "edges: [(0, 1), (1, 2)]\n",
      "constraint numbers: dict_keys([0, 1])\n",
      "constraint_dict: dict_values([<ortools.sat.python.cp_model.Constraint object at 0x7fb3d0f98390>, <ortools.sat.python.cp_model.Constraint object at 0x7fb3d0f83a50>])\n"
     ]
    }
   ],
   "source": [
    "edges = [(n,n+1) for n in range(len(vars)-1)]\n",
    "print(f\"edges: {edges}\")\n",
    "\n",
    "constraint_dict = {}\n",
    "for n, (u,v) in enumerate(edges):\n",
    "    constraint_dict[n] = model.Add(x[u] + x[v] <=1)  # minimum vertex cover constraint_dict\n",
    "\n",
    "objective_function = model.Minimize(sum(x.values))\n",
    "\n",
    "print(f\"constraint numbers: {constraint_dict.keys()}\")\n",
    "print(f\"constraint_dict: {constraint_dict.values()}\") "
   ]
  },
  {
   "cell_type": "markdown",
   "metadata": {},
   "source": [
    "### Viewing Constraints"
   ]
  },
  {
   "cell_type": "markdown",
   "metadata": {},
   "source": [
    "##### Method 1: Accessing constraints from stored constraints (constraints.proto)"
   ]
  },
  {
   "cell_type": "code",
   "execution_count": 29,
   "metadata": {},
   "outputs": [
    {
     "name": "stdout",
     "output_type": "stream",
     "text": [
      "constraint number 0:\n",
      "linear {\n",
      "  vars: 1\n",
      "  vars: 0\n",
      "  coeffs: 1\n",
      "  coeffs: 1\n",
      "  domain: -9223372036854775808\n",
      "  domain: 1\n",
      "}\n",
      "\n",
      "constraint number 1:\n",
      "linear {\n",
      "  vars: 2\n",
      "  vars: 1\n",
      "  coeffs: 1\n",
      "  coeffs: 1\n",
      "  domain: -9223372036854775808\n",
      "  domain: 1\n",
      "}\n",
      "\n"
     ]
    }
   ],
   "source": [
    "for cons_number, constraint in constraint_dict.items():\n",
    "    constraint_info = constraint.proto\n",
    "    print(f\"constraint number {cons_number}:\\n{constraint_info}\")"
   ]
  },
  {
   "cell_type": "markdown",
   "metadata": {},
   "source": [
    "##### Method 2: Accessing via the cp_model (cp_model.CpModel().Proto().constraints)"
   ]
  },
  {
   "cell_type": "code",
   "execution_count": 30,
   "metadata": {},
   "outputs": [
    {
     "name": "stdout",
     "output_type": "stream",
     "text": [
      "[linear {\n",
      "  vars: 1\n",
      "  vars: 0\n",
      "  coeffs: 1\n",
      "  coeffs: 1\n",
      "  domain: -9223372036854775808\n",
      "  domain: 1\n",
      "}\n",
      ", linear {\n",
      "  vars: 2\n",
      "  vars: 1\n",
      "  coeffs: 1\n",
      "  coeffs: 1\n",
      "  domain: -9223372036854775808\n",
      "  domain: 1\n",
      "}\n",
      ", linear {\n",
      "  vars: 1\n",
      "  vars: 0\n",
      "  coeffs: 1\n",
      "  coeffs: 1\n",
      "  domain: -9223372036854775808\n",
      "  domain: 1\n",
      "}\n",
      ", linear {\n",
      "  vars: 2\n",
      "  vars: 1\n",
      "  coeffs: 1\n",
      "  coeffs: 1\n",
      "  domain: -9223372036854775808\n",
      "  domain: 1\n",
      "}\n",
      "]\n"
     ]
    }
   ],
   "source": [
    "constraints = model.proto.constraints\n",
    "print(constraints)"
   ]
  },
  {
   "cell_type": "markdown",
   "metadata": {},
   "source": [
    "### Accessing constraint information like coeffs, domain, and variables associated"
   ]
  },
  {
   "cell_type": "markdown",
   "metadata": {},
   "source": [
    "##### Method 1: direct variables store access"
   ]
  },
  {
   "cell_type": "code",
   "execution_count": 46,
   "metadata": {},
   "outputs": [
    {
     "name": "stdout",
     "output_type": "stream",
     "text": [
      "constraint_info: \n",
      "vars: 1\n",
      "vars: 0\n",
      "coeffs: 1\n",
      "coeffs: 1\n",
      "domain: -9223372036854775808\n",
      "domain: 1\n",
      "\n",
      "coeffs, vars, domain: ([1, 1], [1, 0], [-9223372036854775808, 1])\n",
      "\n",
      "constraint_info: \n",
      "vars: 2\n",
      "vars: 1\n",
      "coeffs: 1\n",
      "coeffs: 1\n",
      "domain: -9223372036854775808\n",
      "domain: 1\n",
      "\n",
      "coeffs, vars, domain: ([1, 1], [2, 1], [-9223372036854775808, 1])\n",
      "\n"
     ]
    }
   ],
   "source": [
    "for c, constraint in constraint_dict.items():\n",
    "    constraint_info = constraint.proto.linear\n",
    "    print(f\"constraint_info: \\n{constraint_info}\")\n",
    "\n",
    "    constraint_coeffs = constraint_info.coeffs\n",
    "    constraint_vars = constraint_info.vars\n",
    "    constraint_domain = constraint_info.domain\n",
    "    print(f\"coeffs, vars, domain: {constraint_coeffs, constraint_vars, constraint_domain}\\n\")"
   ]
  },
  {
   "cell_type": "markdown",
   "metadata": {},
   "source": [
    "##### Method 2: access through cp_model "
   ]
  },
  {
   "cell_type": "code",
   "execution_count": 50,
   "metadata": {},
   "outputs": [
    {
     "name": "stdout",
     "output_type": "stream",
     "text": [
      "coeffs, vars, domain: ([1, 1], [2, 1], [-9223372036854775808, 1])\n",
      "\n"
     ]
    }
   ],
   "source": [
    "constraint_index = 1\n",
    "constraint = constraints[constraint_index]  # Selecting constraint number 1\n",
    "constraint_info = constraint.linear\n",
    "\n",
    "constraint_coeffs = constraint_info.coeffs\n",
    "constraint_vars = constraint_info.vars\n",
    "constraint_domain = constraint_info.domain\n",
    "print(f\"coeffs, vars, domain: {constraint_coeffs, constraint_vars, constraint_domain}\\n\")"
   ]
  },
  {
   "cell_type": "markdown",
   "metadata": {},
   "source": [
    "### Viewing Variables"
   ]
  },
  {
   "cell_type": "markdown",
   "metadata": {},
   "source": [
    "##### Method 1: accessing through variables directly"
   ]
  },
  {
   "cell_type": "code",
   "execution_count": 68,
   "metadata": {},
   "outputs": [
    {
     "name": "stdout",
     "output_type": "stream",
     "text": [
      "variable with selected index 1: x_1\n",
      "\n",
      "Variable 1 Info: \n",
      "name: \"x_1\"\n",
      "domain: 0\n",
      "domain: 1\n",
      "\n"
     ]
    }
   ],
   "source": [
    "selected_var_index = 1\n",
    "variable = x[selected_var_index]\n",
    "print(f\"variable with selected index {selected_var_index}: {variable}\\n\")\n",
    "\n",
    "variable_info = variable.proto\n",
    "print(f\"Variable {selected_var_index} Info: \\n{variable_info}\")"
   ]
  },
  {
   "cell_type": "code",
   "execution_count": null,
   "metadata": {},
   "outputs": [],
   "source": []
  }
 ],
 "metadata": {
  "kernelspec": {
   "display_name": ".venv",
   "language": "python",
   "name": "python3"
  },
  "language_info": {
   "codemirror_mode": {
    "name": "ipython",
    "version": 3
   },
   "file_extension": ".py",
   "mimetype": "text/x-python",
   "name": "python",
   "nbconvert_exporter": "python",
   "pygments_lexer": "ipython3",
   "version": "3.11.10"
  }
 },
 "nbformat": 4,
 "nbformat_minor": 2
}
